{
 "cells": [
  {
   "cell_type": "code",
   "execution_count": 1,
   "id": "f994e2b7",
   "metadata": {},
   "outputs": [],
   "source": [
    "import numpy as np\n",
    "import matplotlib.pyplot as plt\n",
    "%matplotlib inline  \n",
    "#kod satırı Jupyter Notebook'a IDE'sine özel olarak yazılmış bir kod satırıdır. Bu kod satırı oluşturulan görselleri görmek için her defasında “plt.show()” satırını yazmayı önlüyor başka IDE'ler de çalışıyorsanız her defasında plt.show() yazmak gerekebilir."
   ]
  },
  {
   "cell_type": "code",
   "execution_count": 2,
   "id": "b4889e8c",
   "metadata": {},
   "outputs": [
    {
     "name": "stdout",
     "output_type": "stream",
     "text": [
      "(4, 2)\n"
     ]
    }
   ],
   "source": [
    "X = np.array([ [0, 1], [1, 0], [1, 1],[0, 0] ])\n",
    "y = np.array([ [1], [1], [0], [0]])\n",
    "print(np.shape(X))"
   ]
  },
  {
   "cell_type": "code",
   "execution_count": 3,
   "id": "4a474866",
   "metadata": {},
   "outputs": [],
   "source": [
    "num_input = 2\n",
    "num_hidden = 5\n",
    "num_output = 1"
   ]
  },
  {
   "cell_type": "code",
   "execution_count": 6,
   "id": "6e5c30ad",
   "metadata": {},
   "outputs": [
    {
     "name": "stdout",
     "output_type": "stream",
     "text": [
      "[[ 1.59920326  0.00344745 -1.25338253 -0.55145723 -0.0048261 ]\n",
      " [ 0.44043254 -1.50056345  1.0741207   0.52643556  0.42313882]]\n"
     ]
    }
   ],
   "source": [
    "Wxh = np.random.randn(num_input,num_hidden)\n",
    "print(Wxh)\n",
    "bh = np.zeros((1,num_hidden))\n"
   ]
  },
  {
   "cell_type": "code",
   "execution_count": 7,
   "id": "5ca093eb",
   "metadata": {},
   "outputs": [
    {
     "name": "stdout",
     "output_type": "stream",
     "text": [
      "[[-0.60236654]\n",
      " [ 0.16214038]\n",
      " [-1.33474827]\n",
      " [ 0.44096928]\n",
      " [ 1.13264757]]\n"
     ]
    }
   ],
   "source": [
    "Why = np.random.randn (num_hidden,num_output)\n",
    "print(Why)\n",
    "by = np.zeros((1,num_output))\n"
   ]
  },
  {
   "cell_type": "code",
   "execution_count": 8,
   "id": "a422cceb",
   "metadata": {},
   "outputs": [],
   "source": [
    "def sigmoid(z):\n",
    "    return 1 / (1+np.exp(-z))\n"
   ]
  },
  {
   "cell_type": "code",
   "execution_count": 9,
   "id": "994c8c86",
   "metadata": {},
   "outputs": [],
   "source": [
    "def sigmoid_derivative(z):\n",
    "    return np.exp(-z)/((1+np.exp(-z))**2)\n"
   ]
  },
  {
   "cell_type": "code",
   "execution_count": 10,
   "id": "864c4080",
   "metadata": {},
   "outputs": [],
   "source": [
    "def forward_prop(X,Wxh,Why,bh,by):\n",
    "    z1 = np.dot(X,Wxh) + bh   # shape 4 x 5\n",
    "    a1 = sigmoid(z1)          # shape 4 x 5\n",
    "    z2 = np.dot(a1,Why) + by  # shape 4 x 1\n",
    "    y_hat = sigmoid(z2)       # shape 4 x 1\n",
    "    return z1,a1,z2,y_hat"
   ]
  },
  {
   "cell_type": "code",
   "execution_count": 11,
   "id": "c4ee8cae",
   "metadata": {},
   "outputs": [],
   "source": [
    "def backword_prop(y,y_hat, z1, a1, z2,Why):\n",
    "    delta2 = np.multiply(-(y-y_hat),sigmoid_derivative(z2)) # shape 4 x 1\n",
    "    dJ_dWhy = np.dot(a1.T, delta2)                          # shape 5 x 1\n",
    "    delta1 = np.dot(delta2,Why.T)*sigmoid_derivative(z1)    # shape 4 x 5 \n",
    "    dJ_dWxh = np.dot(X.T, delta1)                           # shape 2 x 5\n",
    "    return dJ_dWxh, dJ_dWhy\n"
   ]
  },
  {
   "cell_type": "code",
   "execution_count": 12,
   "id": "dd3761db",
   "metadata": {},
   "outputs": [],
   "source": [
    "def cost_function(y, y_hat):\n",
    "    J = 0.5*sum((y-y_hat)**2)\n",
    "    return J"
   ]
  },
  {
   "cell_type": "code",
   "execution_count": 16,
   "id": "595288e5",
   "metadata": {},
   "outputs": [],
   "source": [
    "alpha = 0.01  # learning rate\n",
    "num_iterations = 50000\n"
   ]
  },
  {
   "cell_type": "code",
   "execution_count": 17,
   "id": "2bbf7b7d",
   "metadata": {},
   "outputs": [],
   "source": [
    "cost =[]\n",
    "for i in range(num_iterations):\n",
    "    z1,a1,z2,y_hat = forward_prop(X,Wxh,Why,bh,by) \n",
    "    dJ_dWxh, dJ_dWhy = backword_prop(y,y_hat, z1, a1, z2,Why)\n",
    "    #print(dJ_dWxh,dJ_dWhy)\n",
    "    #update weights\n",
    "    Wxh = Wxh - alpha * dJ_dWxh\n",
    "    Why = Why - alpha * dJ_dWhy\n",
    " \n",
    "    #print(y-y_hat)\n",
    "    #compute cost\n",
    "    c = cost_function(y, y_hat)\n",
    "    cost.append(c)"
   ]
  },
  {
   "cell_type": "code",
   "execution_count": 18,
   "id": "16f5b77f",
   "metadata": {},
   "outputs": [
    {
     "data": {
      "text/plain": [
       "Text(0, 0.5, 'Cost')"
      ]
     },
     "execution_count": 18,
     "metadata": {},
     "output_type": "execute_result"
    },
    {
     "data": {
      "image/png": "[encoded data removed]",
      "text/plain": [
       "<Figure size 640x480 with 1 Axes>"
      ]
     },
     "metadata": {},
     "output_type": "display_data"
    }
   ],
   "source": [
    "plt.grid()\n",
    "plt.plot(range(num_iterations),cost)\n",
    "plt.title('Cost Function')\n",
    "plt.xlabel('Training Iterations')\n",
    "plt.ylabel('Cost')\n"
   ]
  },
  {
   "cell_type": "code",
   "execution_count": null,
   "id": "5ab68cfe",
   "metadata": {},
   "outputs": [],
   "source": []
  },
  {
   "cell_type": "code",
   "execution_count": null,
   "id": "dba309cc",
   "metadata": {},
   "outputs": [],
   "source": []
  }
 ],
 "metadata": {
  "kernelspec": {
   "display_name": "Python 3 (ipykernel)",
   "language": "python",
   "name": "python3"
  },
  "language_info": {
   "codemirror_mode": {
    "name": "ipython",
    "version": 3
   },
   "file_extension": ".py",
   "mimetype": "text/x-python",
   "name": "python",
   "nbconvert_exporter": "python",
   "pygments_lexer": "ipython3",
   "version": "3.9.16"
  }
 },
 "nbformat": 4,
 "nbformat_minor": 5
}
